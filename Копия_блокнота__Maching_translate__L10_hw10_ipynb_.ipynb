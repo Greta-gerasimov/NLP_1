{
  "nbformat": 4,
  "nbformat_minor": 0,
  "metadata": {
    "colab": {
      "provenance": [],
      "gpuType": "T4",
      "include_colab_link": true
    },
    "kernelspec": {
      "name": "python3",
      "display_name": "Python 3"
    },
    "language_info": {
      "name": "python"
    },
    "accelerator": "GPU"
  },
  "cells": [
    {
      "cell_type": "markdown",
      "metadata": {
        "id": "view-in-github",
        "colab_type": "text"
      },
      "source": [
        "<a href=\"https://colab.research.google.com/github/Greta-gerasimov/NLP_1/blob/L10-11%2FMT_with%2Fout_attention/%D0%9A%D0%BE%D0%BF%D0%B8%D1%8F_%D0%B1%D0%BB%D0%BE%D0%BA%D0%BD%D0%BE%D1%82%D0%B0__Maching_translate__L10_hw10_ipynb_.ipynb\" target=\"_parent\"><img src=\"https://colab.research.google.com/assets/colab-badge.svg\" alt=\"Open In Colab\"/></a>"
      ]
    },
    {
      "cell_type": "markdown",
      "source": [
        "Задание\n",
        "Разобраться с моделькой перевода как она устроена запустить для перевода с русского на английский (при желании можно взять другие пары языков) два варианта с вниманием и без внимания оценить качество насколько корректно переводит"
      ],
      "metadata": {
        "id": "5BaAbHG4u3cX"
      }
    },
    {
      "cell_type": "code",
      "execution_count": 4,
      "metadata": {
        "id": "I7lrTM_QusZd"
      },
      "outputs": [],
      "source": [
        "import tensorflow as tf\n",
        "\n",
        "import matplotlib.pyplot as plt\n",
        "import matplotlib.ticker as ticker\n",
        "from sklearn.model_selection import train_test_split\n",
        "\n",
        "import unicodedata\n",
        "import re\n",
        "import numpy as np\n",
        "import os\n",
        "import io\n",
        "import time"
      ]
    },
    {
      "cell_type": "code",
      "source": [
        "# Загружаем файл\n",
        "path_to_file = \"/content/ita.txt\""
      ],
      "metadata": {
        "id": "dmU5tVNeuykx"
      },
      "execution_count": 5,
      "outputs": []
    },
    {
      "cell_type": "code",
      "source": [
        "#просмотр файла\n",
        "f = open(path_to_file)\n",
        "for line in f:\n",
        "    print(line)\n",
        "    break"
      ],
      "metadata": {
        "colab": {
          "base_uri": "https://localhost:8080/"
        },
        "id": "ZB26rAEouyrd",
        "outputId": "f36dd3e3-165e-48df-e383-677fcbf2cdc6"
      },
      "execution_count": 6,
      "outputs": [
        {
          "output_type": "stream",
          "name": "stdout",
          "text": [
            "Hi.\tCiao!\tCC-BY 2.0 (France) Attribution: tatoeba.org #538123 (CM) & #607364 (Cero)\n",
            "\n"
          ]
        }
      ]
    },
    {
      "cell_type": "markdown",
      "source": [
        "## **Preprocessing**"
      ],
      "metadata": {
        "id": "F_wDHNUrzEmX"
      }
    },
    {
      "cell_type": "code",
      "source": [
        "\n",
        "def preprocess_sentence(w):\n",
        "  #переводим предложение к нижнему регистру и удалем начальные и конечные пробелы\n",
        "    w = w.lower().strip()\n",
        "\n",
        "  # отделяем пробелом слово и следующую за ним пунктуацию\n",
        "  # пример: \"he is a boy.\" => \"he is a boy .\"\n",
        "    w = re.sub(r\"([?.!,])\", r\" \\1 \", w)\n",
        "    w = re.sub(r'[\" \"]+', \" \", w)\n",
        "\n",
        "  # все, кроме букв и знаков пунктуации, заменяем пробелом\n",
        "    w = re.sub(r\"[^a-zA-Zа-яА-Я?.!,']+\", \" \", w)\n",
        "\n",
        "  #удаляем лишние пробелы в начале и конце\n",
        "    w = w.strip()\n",
        "\n",
        "  # создаем начало и конец последовательности\n",
        "  # теперь модель знает, где начинать и заканчивать предсказания\n",
        "    w = '<start> ' + w + ' <end>'\n",
        "    return w"
      ],
      "metadata": {
        "id": "AZ3GDSDAuyxy"
      },
      "execution_count": 7,
      "outputs": []
    },
    {
      "cell_type": "code",
      "source": [
        "preprocess_sentence(\"The long way is beginning  with one step!\")"
      ],
      "metadata": {
        "colab": {
          "base_uri": "https://localhost:8080/",
          "height": 36
        },
        "id": "tm5hv9xGuy4i",
        "outputId": "cd851380-8f7c-4faa-c573-d1d236a4470e"
      },
      "execution_count": 8,
      "outputs": [
        {
          "output_type": "execute_result",
          "data": {
            "text/plain": [
              "'<start> the long way is beginning with one step ! <end>'"
            ],
            "application/vnd.google.colaboratory.intrinsic+json": {
              "type": "string"
            }
          },
          "metadata": {},
          "execution_count": 8
        }
      ]
    },
    {
      "cell_type": "code",
      "source": [
        "# 1. Убираем акценты\n",
        "# 2. Очищаем предложения\n",
        "# 3. Возвращаем пары слов: [isl, ENG]\n",
        "def create_dataset(path, num_examples):\n",
        "  #считываем строки файла\n",
        "    lines = io.open(path, encoding='UTF-8').read().strip().split('\\n')\n",
        "  #каждую строку разделяем на пробелы, берем первые 2 слова, препроцессим их и возвращаем пару\n",
        "    word_pairs = [[preprocess_sentence(w) for w in l.split('\\t')[:2]]  for l in lines[:num_examples]]\n",
        "\n",
        "    return zip(*word_pairs)"
      ],
      "metadata": {
        "id": "jD5eLyopuy-J"
      },
      "execution_count": 9,
      "outputs": []
    },
    {
      "cell_type": "code",
      "source": [
        "#пример работы\n",
        "en, it = create_dataset(path_to_file, None)\n",
        "print(it[18])\n",
        "print(en[18])"
      ],
      "metadata": {
        "colab": {
          "base_uri": "https://localhost:8080/"
        },
        "id": "bXuIJQ0AuzJG",
        "outputId": "79d27d34-c834-4f8c-d46a-4650cad7253a"
      },
      "execution_count": 10,
      "outputs": [
        {
          "output_type": "stream",
          "name": "stdout",
          "text": [
            "<start> salta . <end>\n",
            "<start> jump . <end>\n"
          ]
        }
      ]
    },
    {
      "cell_type": "code",
      "source": [
        "# количество данных в датасете\n",
        "len(en), len(it)"
      ],
      "metadata": {
        "colab": {
          "base_uri": "https://localhost:8080/"
        },
        "id": "Uq3J_z6YuzQ-",
        "outputId": "2d5449c3-9ee6-46a6-edac-a501c62be716"
      },
      "execution_count": 11,
      "outputs": [
        {
          "output_type": "execute_result",
          "data": {
            "text/plain": [
              "(374932, 374932)"
            ]
          },
          "metadata": {},
          "execution_count": 11
        }
      ]
    },
    {
      "cell_type": "code",
      "source": [
        "def tokenize(lang):\n",
        "      #токенизируем текст, отфильтвовываем пробелы\n",
        "    lang_tokenizer = tf.keras.preprocessing.text.Tokenizer(filters='')\n",
        "      #обновляем внутренний словарь на основе lang\n",
        "    lang_tokenizer.fit_on_texts(lang)\n",
        "      #преобразуем каждый элемент из lang в последовательность чисел\n",
        "    tensor = lang_tokenizer.texts_to_sequences(lang)\n",
        "      #преобразуем тензор в матрицу (кол-во тензоров * max-длина),\n",
        "      #при этом короткие последовательности заполняем нулями сзади, а длинные -- обрезаем сзади\n",
        "    tensor = tf.keras.preprocessing.sequence.pad_sequences(tensor, padding='post')\n",
        "    return tensor, lang_tokenizer"
      ],
      "metadata": {
        "id": "Kd1IUWYkuzV0"
      },
      "execution_count": 12,
      "outputs": []
    },
    {
      "cell_type": "code",
      "source": [
        "def load_dataset(path, num_examples=None):\n",
        "      # создаем очищенные анг (выходные), it (входные) пары\n",
        "    targ_lang, inp_lang = create_dataset(path, num_examples)\n",
        "    #применяем токенизацию к каждому элементы из пары\n",
        "    input_tensor, inp_lang_tokenizer = tokenize(inp_lang)\n",
        "    target_tensor, targ_lang_tokenizer = tokenize(targ_lang)\n",
        "\n",
        "    return input_tensor, target_tensor, inp_lang_tokenizer, targ_lang_tokenizer"
      ],
      "metadata": {
        "id": "7XyxJjbt0-N-"
      },
      "execution_count": 13,
      "outputs": []
    },
    {
      "cell_type": "code",
      "source": [
        "num_examples = 100000\n",
        "input_tensor, target_tensor, inp_lang, targ_lang = load_dataset(path_to_file, num_examples)\n",
        "\n",
        "input_tensor, target_tensor"
      ],
      "metadata": {
        "colab": {
          "base_uri": "https://localhost:8080/"
        },
        "id": "Xki13S0guza7",
        "outputId": "a6761c6d-1da2-42bb-eba3-4e64aa3e997a"
      },
      "execution_count": 14,
      "outputs": [
        {
          "output_type": "execute_result",
          "data": {
            "text/plain": [
              "(array([[   1, 1212,   39, ...,    0,    0,    0],\n",
              "        [   1, 1212,    3, ...,    0,    0,    0],\n",
              "        [   1, 3632,   39, ...,    0,    0,    0],\n",
              "        ...,\n",
              "        [   1,  433,    8, ...,    0,    0,    0],\n",
              "        [   1,  433,  127, ...,    0,    0,    0],\n",
              "        [   1,  433,  554, ...,    0,    0,    0]], dtype=int32),\n",
              " array([[   1, 1044,    3, ...,    0,    0,    0],\n",
              "        [   1, 1044,    3, ...,    0,    0,    0],\n",
              "        [   1,  354,   48, ...,    0,    0,    0],\n",
              "        ...,\n",
              "        [   1,  484,   70, ...,    0,    0,    0],\n",
              "        [   1,  484,   17, ...,    2,    0,    0],\n",
              "        [   1,  484,   17, ...,    2,    0,    0]], dtype=int32))"
            ]
          },
          "metadata": {},
          "execution_count": 14
        }
      ]
    },
    {
      "cell_type": "code",
      "source": [
        "# Вычисляем максимальную длину тензоров\n",
        "max_length_targ, max_length_inp = target_tensor.shape[1], input_tensor.shape[1]\n",
        "max_length_targ, max_length_inp"
      ],
      "metadata": {
        "colab": {
          "base_uri": "https://localhost:8080/"
        },
        "id": "fnX2Bfjd5Ijn",
        "outputId": "383648aa-653a-421e-a795-7074e8e75b1f"
      },
      "execution_count": 15,
      "outputs": [
        {
          "output_type": "execute_result",
          "data": {
            "text/plain": [
              "(10, 20)"
            ]
          },
          "metadata": {},
          "execution_count": 15
        }
      ]
    },
    {
      "cell_type": "code",
      "source": [
        "# Создаем тренировочные и валидационные датасеты\n",
        "input_tensor_train, input_tensor_val, target_tensor_train, target_tensor_val = train_test_split(input_tensor, target_tensor, test_size=0.2)\n",
        "\n",
        "# размеры датасетов\n",
        "print(len(input_tensor_train), len(target_tensor_train), len(input_tensor_val), len(target_tensor_val))"
      ],
      "metadata": {
        "colab": {
          "base_uri": "https://localhost:8080/"
        },
        "id": "fXHbNDc75Ir0",
        "outputId": "294432db-88b2-4a4d-ddac-598b638fa43d"
      },
      "execution_count": 16,
      "outputs": [
        {
          "output_type": "stream",
          "name": "stdout",
          "text": [
            "80000 80000 20000 20000\n"
          ]
        }
      ]
    },
    {
      "cell_type": "code",
      "source": [
        "input_tensor_train, target_tensor_train"
      ],
      "metadata": {
        "colab": {
          "base_uri": "https://localhost:8080/"
        },
        "id": "fEIfNOYR5I0O",
        "outputId": "72b88527-aa3d-4977-edd1-5903ecce2b92"
      },
      "execution_count": 17,
      "outputs": [
        {
          "output_type": "execute_result",
          "data": {
            "text/plain": [
              "(array([[   1,   28, 1947, ...,    0,    0,    0],\n",
              "        [   1,  614,    9, ...,    0,    0,    0],\n",
              "        [   1,   33,   75, ...,    0,    0,    0],\n",
              "        ...,\n",
              "        [   1,   20,   27, ...,    0,    0,    0],\n",
              "        [   1,   16,  145, ...,    0,    0,    0],\n",
              "        [   1,    6,  137, ...,    0,    0,    0]], dtype=int32),\n",
              " array([[   1,   21, 1166, ...,    0,    0,    0],\n",
              "        [   1,   30,    6, ...,    0,    0,    0],\n",
              "        [   1,   15,    6, ...,    2,    0,    0],\n",
              "        ...,\n",
              "        [   1,    6,   19, ...,    0,    0,    0],\n",
              "        [   1,   20,  123, ...,    0,    0,    0],\n",
              "        [   1,    6,  135, ...,    0,    0,    0]], dtype=int32))"
            ]
          },
          "metadata": {},
          "execution_count": 17
        }
      ]
    },
    {
      "cell_type": "code",
      "source": [
        "#функция получения из токена текста (выводим токен и его индекс)\n",
        "def convert(lang, tensor):\n",
        "    for t in tensor:\n",
        "        if t!=0:\n",
        "            print (\"%d ----> %s\" % (t, lang.index_word[t]))"
      ],
      "metadata": {
        "id": "qTHPsATo5I7A"
      },
      "execution_count": 18,
      "outputs": []
    },
    {
      "cell_type": "code",
      "source": [
        "print (\"Input Language; index to word mapping\")\n",
        "convert(inp_lang, input_tensor_train[0])\n",
        "print ()\n",
        "print (\"Target Language; index to word mapping\")\n",
        "convert(targ_lang, target_tensor_train[0])"
      ],
      "metadata": {
        "colab": {
          "base_uri": "https://localhost:8080/"
        },
        "id": "6xaYzODG5JDz",
        "outputId": "19880e81-167e-4641-d709-18ac8aa97015"
      },
      "execution_count": 19,
      "outputs": [
        {
          "output_type": "stream",
          "name": "stdout",
          "text": [
            "Input Language; index to word mapping\n",
            "1 ----> <start>\n",
            "28 ----> questo\n",
            "1947 ----> capita\n",
            "34 ----> molto\n",
            "3 ----> .\n",
            "2 ----> <end>\n",
            "\n",
            "Target Language; index to word mapping\n",
            "1 ----> <start>\n",
            "21 ----> this\n",
            "1166 ----> happens\n",
            "8 ----> a\n",
            "155 ----> lot\n",
            "3 ----> .\n",
            "2 ----> <end>\n"
          ]
        }
      ]
    },
    {
      "cell_type": "code",
      "source": [
        "BUFFER_SIZE = len(input_tensor_train)\n",
        "BATCH_SIZE = 64\n",
        "#количество эпох\n",
        "steps_per_epoch = len(input_tensor_train)//BATCH_SIZE\n",
        "embedding_dim = 300\n",
        "units = 1024\n",
        "vocab_inp_size = len(inp_lang.word_index)+1\n",
        "vocab_tar_size = len(targ_lang.word_index)+1\n",
        "#из каждого элемента (input_tensor_train, target_tensor_train) создает тензор\n",
        "dataset = tf.data.Dataset.from_tensor_slices((input_tensor_train, target_tensor_train)).shuffle(BUFFER_SIZE)\n",
        "#разбиваем датасет на батчи (списки по 64), удаляя последний неполный батч\n",
        "dataset = dataset.batch(BATCH_SIZE, drop_remainder=True)"
      ],
      "metadata": {
        "id": "me03CkkW5eR9"
      },
      "execution_count": 20,
      "outputs": []
    },
    {
      "cell_type": "code",
      "source": [
        "example_input_batch, example_target_batch = next(iter(dataset))\n",
        "example_input_batch.shape, example_target_batch.shape"
      ],
      "metadata": {
        "colab": {
          "base_uri": "https://localhost:8080/"
        },
        "id": "aFfJWSDRMLZv",
        "outputId": "84c0294f-75ae-4fc2-c8bf-59dae82ddeae"
      },
      "execution_count": 21,
      "outputs": [
        {
          "output_type": "execute_result",
          "data": {
            "text/plain": [
              "(TensorShape([64, 20]), TensorShape([64, 10]))"
            ]
          },
          "metadata": {},
          "execution_count": 21
        }
      ]
    },
    {
      "cell_type": "code",
      "source": [
        "from keras.layers import GRU, Concatenate"
      ],
      "metadata": {
        "id": "DUb5XD7MLdTM"
      },
      "execution_count": 22,
      "outputs": []
    },
    {
      "cell_type": "code",
      "source": [
        "example_input_batch, example_target_batch = next(iter(dataset))\n",
        "print(example_input_batch.shape, example_target_batch.shape)\n",
        "example_input_batch[0], example_target_batch[0]"
      ],
      "metadata": {
        "colab": {
          "base_uri": "https://localhost:8080/"
        },
        "id": "saUjzW-T5eZh",
        "outputId": "f49d22f5-6fc2-421d-c984-f484b5d10883"
      },
      "execution_count": 23,
      "outputs": [
        {
          "output_type": "stream",
          "name": "stdout",
          "text": [
            "(64, 20) (64, 10)\n"
          ]
        },
        {
          "output_type": "execute_result",
          "data": {
            "text/plain": [
              "(<tf.Tensor: shape=(20,), dtype=int32, numpy=\n",
              " array([   1,   61,   49, 5276,    5,    2,    0,    0,    0,    0,    0,\n",
              "           0,    0,    0,    0,    0,    0,    0,    0,    0], dtype=int32)>,\n",
              " <tf.Tensor: shape=(10,), dtype=int32, numpy=\n",
              " array([   1,   59,   19,    6,   50, 1744,    7,    2,    0,    0],\n",
              "       dtype=int32)>)"
            ]
          },
          "metadata": {},
          "execution_count": 23
        }
      ]
    },
    {
      "cell_type": "code",
      "source": [
        "class Encoder(tf.keras.Model):\n",
        "  def __init__(self, vocab_size, embedding_dim, enc_units, batch_sz):\n",
        "    super(Encoder, self).__init__()\n",
        "    self.batch_sz = batch_sz\n",
        "    self.enc_units = enc_units\n",
        "    self.embedding = tf.keras.layers.Embedding(vocab_size, embedding_dim)\n",
        "    self.gru = tf.keras.layers.Bidirectional(GRU(self.enc_units,\n",
        "                                   return_sequences=False,\n",
        "                                   return_state=True,\n",
        "                                   recurrent_initializer='glorot_uniform'))\n",
        "\n",
        "\n",
        "  def call(self, x, hidden):\n",
        "    x = self.embedding(x)\n",
        "    output, state_frw, state_bcw = self.gru(x, initial_state = hidden)\n",
        "    return state_frw, state_bcw\n",
        "\n",
        "  # def initialize_hidden_state(self):\n",
        "  #   return tf.zeros((self.batch_sz, self.enc_units))\n",
        "\n",
        "  def initialize_hidden_state(self):\n",
        "      return [tf.zeros((self.batch_sz, self.enc_units)) for i in range(2)]"
      ],
      "metadata": {
        "id": "vewL8bf05ee2"
      },
      "execution_count": 24,
      "outputs": []
    },
    {
      "cell_type": "code",
      "source": [
        "encoder = Encoder(vocab_inp_size, embedding_dim, units, BATCH_SIZE)\n",
        "# sample input\n",
        "encoder = Encoder(vocab_inp_size, embedding_dim, units, BATCH_SIZE)\n",
        "sample_hidden = encoder.initialize_hidden_state()\n",
        "forward_hidden, backward_hidden = encoder(example_input_batch, sample_hidden)\n",
        "print('Encoder forward_h shape: (batch size, units) {}'.format(forward_hidden.shape))\n",
        "print('Encoder backward_h shape: (batch size, units) {}'.format(backward_hidden.shape))\n"
      ],
      "metadata": {
        "colab": {
          "base_uri": "https://localhost:8080/"
        },
        "id": "A_KcJGtI5em6",
        "outputId": "4c504eac-054c-4b73-96ca-69dff1abd87a"
      },
      "execution_count": 25,
      "outputs": [
        {
          "output_type": "stream",
          "name": "stdout",
          "text": [
            "Encoder forward_h shape: (batch size, units) (64, 1024)\n",
            "Encoder backward_h shape: (batch size, units) (64, 1024)\n"
          ]
        }
      ]
    },
    {
      "cell_type": "code",
      "source": [
        "sample_hidden"
      ],
      "metadata": {
        "colab": {
          "base_uri": "https://localhost:8080/"
        },
        "id": "BzjKXXKG5er0",
        "outputId": "a6cc2a54-c80e-4b35-c5e5-429da8c43de6"
      },
      "execution_count": 26,
      "outputs": [
        {
          "output_type": "execute_result",
          "data": {
            "text/plain": [
              "[<tf.Tensor: shape=(64, 1024), dtype=float32, numpy=\n",
              " array([[0., 0., 0., ..., 0., 0., 0.],\n",
              "        [0., 0., 0., ..., 0., 0., 0.],\n",
              "        [0., 0., 0., ..., 0., 0., 0.],\n",
              "        ...,\n",
              "        [0., 0., 0., ..., 0., 0., 0.],\n",
              "        [0., 0., 0., ..., 0., 0., 0.],\n",
              "        [0., 0., 0., ..., 0., 0., 0.]], dtype=float32)>,\n",
              " <tf.Tensor: shape=(64, 1024), dtype=float32, numpy=\n",
              " array([[0., 0., 0., ..., 0., 0., 0.],\n",
              "        [0., 0., 0., ..., 0., 0., 0.],\n",
              "        [0., 0., 0., ..., 0., 0., 0.],\n",
              "        ...,\n",
              "        [0., 0., 0., ..., 0., 0., 0.],\n",
              "        [0., 0., 0., ..., 0., 0., 0.],\n",
              "        [0., 0., 0., ..., 0., 0., 0.]], dtype=float32)>]"
            ]
          },
          "metadata": {},
          "execution_count": 26
        }
      ]
    },
    {
      "cell_type": "code",
      "source": [
        "class Decoder(tf.keras.Model):\n",
        "  def __init__(self, vocab_size, embedding_dim, dec_units, batch_sz):\n",
        "    super(Decoder, self).__init__()\n",
        "    self.batch_sz = batch_sz\n",
        "    self.dec_units = dec_units\n",
        "    self.embedding = tf.keras.layers.Embedding(vocab_size, embedding_dim)\n",
        "    self.gru = tf.keras.layers.GRU(2*self.dec_units,\n",
        "                                   return_sequences=True,\n",
        "                                   return_state=True,\n",
        "                                   recurrent_initializer='glorot_uniform')\n",
        "    self.fc = tf.keras.layers.Dense(vocab_size)\n",
        "\n",
        "  def call(self, x, encoder_fwd_state, encoder_back_state):\n",
        "    # enc_output shape == (batch_size, max_length, hidden_size)\n",
        "\n",
        "    # x shape after passing through embedding == (batch_size, 1, embedding_dim)\n",
        "    x = self.embedding(x)\n",
        "\n",
        "    # x shape after concatenation == (batch_size, 1, embedding_dim + hidden_size)\n",
        "\n",
        "    # passing the concatenated vector to the GRU\n",
        "    output, state = self.gru(x, initial_state=Concatenate(axis=-1)([encoder_fwd_state, encoder_back_state]))\n",
        "\n",
        "    # output shape == (batch_size * 1, hidden_size)\n",
        "    output = tf.reshape(output, (-1, output.shape[2]))\n",
        "\n",
        "    # output shape == (batch_size, vocab)\n",
        "    x = self.fc(output)\n",
        "\n",
        "    return x, state"
      ],
      "metadata": {
        "id": "dvKQHLZ06ABz"
      },
      "execution_count": 27,
      "outputs": []
    },
    {
      "cell_type": "code",
      "source": [
        "decoder = Decoder(vocab_tar_size, embedding_dim, units, BATCH_SIZE)\n",
        "\n",
        "decoder_sample_x, decoder_sample_h = decoder(tf.random.uniform((BATCH_SIZE, 1)),\n",
        "                                      forward_hidden, backward_hidden)"
      ],
      "metadata": {
        "id": "c8T1LvFN6AHh"
      },
      "execution_count": 28,
      "outputs": []
    },
    {
      "cell_type": "code",
      "source": [
        "decoder_sample_x.shape"
      ],
      "metadata": {
        "colab": {
          "base_uri": "https://localhost:8080/"
        },
        "id": "A-dxdDTU6ANh",
        "outputId": "6f05cb9b-a0d4-4da6-fb6f-dfb7d8707921"
      },
      "execution_count": 29,
      "outputs": [
        {
          "output_type": "execute_result",
          "data": {
            "text/plain": [
              "TensorShape([64, 6368])"
            ]
          },
          "metadata": {},
          "execution_count": 29
        }
      ]
    },
    {
      "cell_type": "code",
      "source": [
        "decoder_sample_h.shape"
      ],
      "metadata": {
        "colab": {
          "base_uri": "https://localhost:8080/"
        },
        "id": "Pz9Zm0-jMsvk",
        "outputId": "eb371d7b-b34f-4572-ca3f-ca3b5647f1fd"
      },
      "execution_count": 30,
      "outputs": [
        {
          "output_type": "execute_result",
          "data": {
            "text/plain": [
              "TensorShape([64, 2048])"
            ]
          },
          "metadata": {},
          "execution_count": 30
        }
      ]
    },
    {
      "cell_type": "markdown",
      "source": [
        "## Define the optimizer and the loss function"
      ],
      "metadata": {
        "id": "sUX8FY7YMwG8"
      }
    },
    {
      "cell_type": "code",
      "source": [
        "#оптимизатор\n",
        "optimizer = tf.keras.optimizers.Adam()\n",
        "\n",
        "loss_object = tf.keras.losses.SparseCategoricalCrossentropy(\n",
        "    from_logits=True, reduction='none')\n",
        "\n",
        "#функция потерь\n",
        "def loss_function(real, pred):\n",
        "      #делаем инверсию значений сравнения каждого из real с нулем (возвращается true или false)\n",
        "    mask = tf.math.logical_not(tf.math.equal(real, 0))\n",
        "      #применяем функцию ошибок к реальным данным и предсказанным\n",
        "    loss_ = loss_object(real, pred)\n",
        "      #приводим тензор mask к новому типу loss_.dtype\n",
        "    mask = tf.cast(mask, dtype=loss_.dtype)\n",
        "      #умножаем loss_ на mask\n",
        "    loss_ *= mask\n",
        "      # возвращаем среднее значениe всех элементов\n",
        "    return tf.reduce_mean(loss_)"
      ],
      "metadata": {
        "id": "kOExKkEV6ATP"
      },
      "execution_count": 31,
      "outputs": []
    },
    {
      "cell_type": "markdown",
      "source": [
        "## Checkpoints (Object-based saving)"
      ],
      "metadata": {
        "id": "seElJUerM4RL"
      }
    },
    {
      "cell_type": "code",
      "source": [
        "checkpoint_dir = './training_nmt_checkpoints'\n",
        "\n",
        "checkpoint_prefix = os.path.join(checkpoint_dir, \"ckpt\")\n",
        "\n",
        "checkpoint = tf.train.Checkpoint(optimizer=optimizer,\n",
        "                                 encoder=encoder,\n",
        "                                 decoder=decoder)"
      ],
      "metadata": {
        "id": "CBj_ueKJ6AYG"
      },
      "execution_count": 32,
      "outputs": []
    },
    {
      "cell_type": "code",
      "source": [
        "@tf.function\n",
        "def train_step(inp, targ, enc_hidden):\n",
        "  loss = 0\n",
        "\n",
        "  with tf.GradientTape() as tape:\n",
        "    enc_hidden = encoder(inp, enc_hidden)\n",
        "\n",
        "    forward_hidden, backward_hidden = enc_hidden\n",
        "\n",
        "    dec_input = tf.expand_dims([targ_lang.word_index['<start>']] * BATCH_SIZE, 1)\n",
        "\n",
        "    # Teacher forcing - feeding the target as the next input\n",
        "    for t in range(1, targ.shape[1]): # Максимальная длина последовательности\n",
        "      # passing enc_output to the decoder\n",
        "      predictions, dec_hidden = decoder(dec_input, forward_hidden, backward_hidden)\n",
        "\n",
        "      # считаем лосс по каждому предсказанному слову\n",
        "      loss += loss_function(targ[:, t], predictions)\n",
        "\n",
        "      # using teacher forcing\n",
        "      dec_input = tf.expand_dims(targ[:, t], 1)\n",
        "\n",
        "  batch_loss = (loss / int(targ.shape[1]))\n",
        "\n",
        "  variables = encoder.trainable_variables + decoder.trainable_variables\n",
        "\n",
        "  gradients = tape.gradient(loss, variables)\n",
        "\n",
        "  optimizer.apply_gradients(zip(gradients, variables))\n",
        "\n",
        "  return batch_loss"
      ],
      "metadata": {
        "id": "3K_Cme4K6AdB"
      },
      "execution_count": 33,
      "outputs": []
    },
    {
      "cell_type": "code",
      "source": [
        "EPOCHS = 15\n",
        "\n",
        "for epoch in range(EPOCHS):\n",
        "  start = time.time()\n",
        "\n",
        "  enc_hidden = encoder.initialize_hidden_state()\n",
        "  total_loss = 0\n",
        "\n",
        "  for (batch, (inp, targ)) in enumerate(dataset.take(steps_per_epoch)):\n",
        "    batch_loss = train_step(inp, targ, enc_hidden)\n",
        "    total_loss += batch_loss\n",
        "\n",
        "    if batch % 100 == 0:\n",
        "      print('Epoch {} Batch {} Loss {:.4f}'.format(epoch + 1,\n",
        "                                                   batch,\n",
        "                                                   batch_loss.numpy()))\n",
        "  # saving (checkpoint) the model every 2 epochs\n",
        "  if (epoch + 1) % 2 == 0:\n",
        "    checkpoint.save(file_prefix = checkpoint_prefix)\n",
        "\n",
        "  print('Epoch {} Loss {:.4f}'.format(epoch + 1,\n",
        "                                      total_loss / steps_per_epoch))\n",
        "  print('Time taken for 1 epoch {} sec\\n'.format(time.time() - start))"
      ],
      "metadata": {
        "colab": {
          "base_uri": "https://localhost:8080/"
        },
        "id": "dd3Yld8T6Neh",
        "outputId": "6614389f-79cd-402f-9840-3985e69dc028"
      },
      "execution_count": 34,
      "outputs": [
        {
          "output_type": "stream",
          "name": "stdout",
          "text": [
            "Epoch 1 Batch 0 Loss 4.8308\n",
            "Epoch 1 Batch 100 Loss 2.0919\n",
            "Epoch 1 Batch 200 Loss 1.8328\n",
            "Epoch 1 Batch 300 Loss 1.7458\n",
            "Epoch 1 Batch 400 Loss 1.5433\n",
            "Epoch 1 Batch 500 Loss 1.4056\n",
            "Epoch 1 Batch 600 Loss 1.2393\n",
            "Epoch 1 Batch 700 Loss 1.0977\n",
            "Epoch 1 Batch 800 Loss 1.0489\n",
            "Epoch 1 Batch 900 Loss 0.9637\n",
            "Epoch 1 Batch 1000 Loss 0.7245\n",
            "Epoch 1 Batch 1100 Loss 0.7699\n",
            "Epoch 1 Batch 1200 Loss 0.7833\n",
            "Epoch 1 Loss 1.3075\n",
            "Time taken for 1 epoch 136.09841394424438 sec\n",
            "\n",
            "Epoch 2 Batch 0 Loss 0.5226\n",
            "Epoch 2 Batch 100 Loss 0.5093\n",
            "Epoch 2 Batch 200 Loss 0.3965\n",
            "Epoch 2 Batch 300 Loss 0.4098\n",
            "Epoch 2 Batch 400 Loss 0.4137\n",
            "Epoch 2 Batch 500 Loss 0.5267\n",
            "Epoch 2 Batch 600 Loss 0.4945\n",
            "Epoch 2 Batch 700 Loss 0.4352\n",
            "Epoch 2 Batch 800 Loss 0.4103\n",
            "Epoch 2 Batch 900 Loss 0.3109\n",
            "Epoch 2 Batch 1000 Loss 0.3932\n",
            "Epoch 2 Batch 1100 Loss 0.2886\n",
            "Epoch 2 Batch 1200 Loss 0.2579\n",
            "Epoch 2 Loss 0.4061\n",
            "Time taken for 1 epoch 121.76422643661499 sec\n",
            "\n",
            "Epoch 3 Batch 0 Loss 0.1636\n",
            "Epoch 3 Batch 100 Loss 0.1738\n",
            "Epoch 3 Batch 200 Loss 0.2358\n",
            "Epoch 3 Batch 300 Loss 0.2506\n",
            "Epoch 3 Batch 400 Loss 0.2516\n",
            "Epoch 3 Batch 500 Loss 0.1780\n",
            "Epoch 3 Batch 600 Loss 0.2117\n",
            "Epoch 3 Batch 700 Loss 0.1306\n",
            "Epoch 3 Batch 800 Loss 0.1486\n",
            "Epoch 3 Batch 900 Loss 0.1583\n",
            "Epoch 3 Batch 1000 Loss 0.2064\n",
            "Epoch 3 Batch 1100 Loss 0.1390\n",
            "Epoch 3 Batch 1200 Loss 0.1595\n",
            "Epoch 3 Loss 0.1873\n",
            "Time taken for 1 epoch 119.46183586120605 sec\n",
            "\n",
            "Epoch 4 Batch 0 Loss 0.0875\n",
            "Epoch 4 Batch 100 Loss 0.0814\n",
            "Epoch 4 Batch 200 Loss 0.1032\n",
            "Epoch 4 Batch 300 Loss 0.1116\n",
            "Epoch 4 Batch 400 Loss 0.1198\n",
            "Epoch 4 Batch 500 Loss 0.1249\n",
            "Epoch 4 Batch 600 Loss 0.1665\n",
            "Epoch 4 Batch 700 Loss 0.1470\n",
            "Epoch 4 Batch 800 Loss 0.0928\n",
            "Epoch 4 Batch 900 Loss 0.1491\n",
            "Epoch 4 Batch 1000 Loss 0.1163\n",
            "Epoch 4 Batch 1100 Loss 0.1653\n",
            "Epoch 4 Batch 1200 Loss 0.1256\n",
            "Epoch 4 Loss 0.1216\n",
            "Time taken for 1 epoch 125.73146319389343 sec\n",
            "\n",
            "Epoch 5 Batch 0 Loss 0.0724\n",
            "Epoch 5 Batch 100 Loss 0.1334\n",
            "Epoch 5 Batch 200 Loss 0.1000\n",
            "Epoch 5 Batch 300 Loss 0.0987\n",
            "Epoch 5 Batch 400 Loss 0.0886\n",
            "Epoch 5 Batch 500 Loss 0.1029\n",
            "Epoch 5 Batch 600 Loss 0.0641\n",
            "Epoch 5 Batch 700 Loss 0.1011\n",
            "Epoch 5 Batch 800 Loss 0.0558\n",
            "Epoch 5 Batch 900 Loss 0.1024\n",
            "Epoch 5 Batch 1000 Loss 0.0746\n",
            "Epoch 5 Batch 1100 Loss 0.1141\n",
            "Epoch 5 Batch 1200 Loss 0.0926\n",
            "Epoch 5 Loss 0.0964\n",
            "Time taken for 1 epoch 119.47507786750793 sec\n",
            "\n",
            "Epoch 6 Batch 0 Loss 0.0425\n",
            "Epoch 6 Batch 100 Loss 0.0681\n",
            "Epoch 6 Batch 200 Loss 0.0604\n",
            "Epoch 6 Batch 300 Loss 0.1120\n",
            "Epoch 6 Batch 400 Loss 0.0678\n",
            "Epoch 6 Batch 500 Loss 0.0739\n",
            "Epoch 6 Batch 600 Loss 0.0602\n",
            "Epoch 6 Batch 700 Loss 0.1148\n",
            "Epoch 6 Batch 800 Loss 0.0959\n",
            "Epoch 6 Batch 900 Loss 0.0721\n",
            "Epoch 6 Batch 1000 Loss 0.0962\n",
            "Epoch 6 Batch 1100 Loss 0.1255\n",
            "Epoch 6 Batch 1200 Loss 0.0823\n",
            "Epoch 6 Loss 0.0844\n",
            "Time taken for 1 epoch 130.65478491783142 sec\n",
            "\n",
            "Epoch 7 Batch 0 Loss 0.0886\n",
            "Epoch 7 Batch 100 Loss 0.0499\n",
            "Epoch 7 Batch 200 Loss 0.0765\n",
            "Epoch 7 Batch 300 Loss 0.0860\n",
            "Epoch 7 Batch 400 Loss 0.0789\n",
            "Epoch 7 Batch 500 Loss 0.0953\n",
            "Epoch 7 Batch 600 Loss 0.1106\n",
            "Epoch 7 Batch 700 Loss 0.0335\n",
            "Epoch 7 Batch 800 Loss 0.0480\n",
            "Epoch 7 Batch 900 Loss 0.0774\n",
            "Epoch 7 Batch 1000 Loss 0.0668\n",
            "Epoch 7 Batch 1100 Loss 0.0872\n",
            "Epoch 7 Batch 1200 Loss 0.0972\n",
            "Epoch 7 Loss 0.0769\n",
            "Time taken for 1 epoch 119.99932885169983 sec\n",
            "\n",
            "Epoch 8 Batch 0 Loss 0.0516\n",
            "Epoch 8 Batch 100 Loss 0.0551\n",
            "Epoch 8 Batch 200 Loss 0.0330\n",
            "Epoch 8 Batch 300 Loss 0.0694\n",
            "Epoch 8 Batch 400 Loss 0.0764\n",
            "Epoch 8 Batch 500 Loss 0.0438\n",
            "Epoch 8 Batch 600 Loss 0.0989\n",
            "Epoch 8 Batch 700 Loss 0.0680\n",
            "Epoch 8 Batch 800 Loss 0.0905\n",
            "Epoch 8 Batch 900 Loss 0.0640\n",
            "Epoch 8 Batch 1000 Loss 0.0379\n",
            "Epoch 8 Batch 1100 Loss 0.0459\n",
            "Epoch 8 Batch 1200 Loss 0.0396\n",
            "Epoch 8 Loss 0.0708\n",
            "Time taken for 1 epoch 124.84986686706543 sec\n",
            "\n",
            "Epoch 9 Batch 0 Loss 0.0886\n",
            "Epoch 9 Batch 100 Loss 0.0614\n",
            "Epoch 9 Batch 200 Loss 0.0541\n",
            "Epoch 9 Batch 300 Loss 0.0546\n",
            "Epoch 9 Batch 400 Loss 0.0372\n",
            "Epoch 9 Batch 500 Loss 0.0365\n",
            "Epoch 9 Batch 600 Loss 0.0973\n",
            "Epoch 9 Batch 700 Loss 0.0679\n",
            "Epoch 9 Batch 800 Loss 0.0600\n",
            "Epoch 9 Batch 900 Loss 0.0997\n",
            "Epoch 9 Batch 1000 Loss 0.0798\n",
            "Epoch 9 Batch 1100 Loss 0.1070\n",
            "Epoch 9 Batch 1200 Loss 0.0357\n",
            "Epoch 9 Loss 0.0672\n",
            "Time taken for 1 epoch 119.85359501838684 sec\n",
            "\n",
            "Epoch 10 Batch 0 Loss 0.0805\n",
            "Epoch 10 Batch 100 Loss 0.0617\n",
            "Epoch 10 Batch 200 Loss 0.0448\n",
            "Epoch 10 Batch 300 Loss 0.0508\n",
            "Epoch 10 Batch 400 Loss 0.0785\n",
            "Epoch 10 Batch 500 Loss 0.0609\n",
            "Epoch 10 Batch 600 Loss 0.0751\n",
            "Epoch 10 Batch 700 Loss 0.0537\n",
            "Epoch 10 Batch 800 Loss 0.0661\n",
            "Epoch 10 Batch 900 Loss 0.0274\n",
            "Epoch 10 Batch 1000 Loss 0.0501\n",
            "Epoch 10 Batch 1100 Loss 0.1309\n",
            "Epoch 10 Batch 1200 Loss 0.0860\n",
            "Epoch 10 Loss 0.0633\n",
            "Time taken for 1 epoch 130.8966543674469 sec\n",
            "\n",
            "Epoch 11 Batch 0 Loss 0.0456\n",
            "Epoch 11 Batch 100 Loss 0.0685\n",
            "Epoch 11 Batch 200 Loss 0.0716\n",
            "Epoch 11 Batch 300 Loss 0.0578\n",
            "Epoch 11 Batch 400 Loss 0.0452\n",
            "Epoch 11 Batch 500 Loss 0.0465\n",
            "Epoch 11 Batch 600 Loss 0.0298\n",
            "Epoch 11 Batch 700 Loss 0.0273\n",
            "Epoch 11 Batch 800 Loss 0.0698\n",
            "Epoch 11 Batch 900 Loss 0.0756\n",
            "Epoch 11 Batch 1000 Loss 0.0533\n",
            "Epoch 11 Batch 1100 Loss 0.0513\n",
            "Epoch 11 Batch 1200 Loss 0.1314\n",
            "Epoch 11 Loss 0.0596\n",
            "Time taken for 1 epoch 119.5476861000061 sec\n",
            "\n",
            "Epoch 12 Batch 0 Loss 0.0363\n",
            "Epoch 12 Batch 100 Loss 0.0465\n",
            "Epoch 12 Batch 200 Loss 0.0443\n",
            "Epoch 12 Batch 300 Loss 0.0555\n",
            "Epoch 12 Batch 400 Loss 0.0679\n",
            "Epoch 12 Batch 500 Loss 0.0299\n",
            "Epoch 12 Batch 600 Loss 0.0321\n",
            "Epoch 12 Batch 700 Loss 0.0612\n",
            "Epoch 12 Batch 800 Loss 0.0517\n",
            "Epoch 12 Batch 900 Loss 0.0378\n",
            "Epoch 12 Batch 1000 Loss 0.0700\n",
            "Epoch 12 Batch 1100 Loss 0.0490\n",
            "Epoch 12 Batch 1200 Loss 0.0424\n",
            "Epoch 12 Loss 0.0575\n",
            "Time taken for 1 epoch 125.64360117912292 sec\n",
            "\n",
            "Epoch 13 Batch 0 Loss 0.0444\n",
            "Epoch 13 Batch 100 Loss 0.0576\n",
            "Epoch 13 Batch 200 Loss 0.0386\n",
            "Epoch 13 Batch 300 Loss 0.0438\n",
            "Epoch 13 Batch 400 Loss 0.0547\n",
            "Epoch 13 Batch 500 Loss 0.0671\n",
            "Epoch 13 Batch 600 Loss 0.0408\n",
            "Epoch 13 Batch 700 Loss 0.0809\n",
            "Epoch 13 Batch 800 Loss 0.0535\n",
            "Epoch 13 Batch 900 Loss 0.0774\n",
            "Epoch 13 Batch 1000 Loss 0.0629\n",
            "Epoch 13 Batch 1100 Loss 0.0417\n",
            "Epoch 13 Batch 1200 Loss 0.0699\n",
            "Epoch 13 Loss 0.0542\n",
            "Time taken for 1 epoch 119.53264236450195 sec\n",
            "\n",
            "Epoch 14 Batch 0 Loss 0.0513\n",
            "Epoch 14 Batch 100 Loss 0.0462\n",
            "Epoch 14 Batch 200 Loss 0.0383\n",
            "Epoch 14 Batch 300 Loss 0.0641\n",
            "Epoch 14 Batch 400 Loss 0.0737\n",
            "Epoch 14 Batch 500 Loss 0.0834\n",
            "Epoch 14 Batch 600 Loss 0.0706\n",
            "Epoch 14 Batch 700 Loss 0.0393\n",
            "Epoch 14 Batch 800 Loss 0.0459\n",
            "Epoch 14 Batch 900 Loss 0.0417\n",
            "Epoch 14 Batch 1000 Loss 0.0435\n",
            "Epoch 14 Batch 1100 Loss 0.0345\n",
            "Epoch 14 Batch 1200 Loss 0.0819\n",
            "Epoch 14 Loss 0.0530\n",
            "Time taken for 1 epoch 126.12187790870667 sec\n",
            "\n",
            "Epoch 15 Batch 0 Loss 0.0180\n",
            "Epoch 15 Batch 100 Loss 0.0551\n",
            "Epoch 15 Batch 200 Loss 0.0540\n",
            "Epoch 15 Batch 300 Loss 0.0582\n",
            "Epoch 15 Batch 400 Loss 0.0605\n",
            "Epoch 15 Batch 500 Loss 0.0632\n",
            "Epoch 15 Batch 600 Loss 0.0208\n",
            "Epoch 15 Batch 700 Loss 0.0378\n",
            "Epoch 15 Batch 800 Loss 0.0464\n",
            "Epoch 15 Batch 900 Loss 0.0498\n",
            "Epoch 15 Batch 1000 Loss 0.0632\n",
            "Epoch 15 Batch 1100 Loss 0.0347\n",
            "Epoch 15 Batch 1200 Loss 0.0359\n",
            "Epoch 15 Loss 0.0507\n",
            "Time taken for 1 epoch 119.81226921081543 sec\n",
            "\n"
          ]
        }
      ]
    },
    {
      "cell_type": "code",
      "source": [
        "def evaluate(sentence):\n",
        "  attention_plot = np.zeros((max_length_targ, max_length_inp))\n",
        "\n",
        "  sentence = preprocess_sentence(sentence)\n",
        "\n",
        "  inputs = [inp_lang.word_index[i] for i in sentence.split(' ')]\n",
        "  inputs = tf.keras.preprocessing.sequence.pad_sequences([inputs],\n",
        "                                                         maxlen=max_length_inp,\n",
        "                                                         padding='post')\n",
        "  inputs = tf.convert_to_tensor(inputs)\n",
        "\n",
        "  result = ''\n",
        "\n",
        "  hidden = [tf.zeros((1, units)) for i in range(2)]\n",
        "  enc_hidden = encoder(inputs, hidden)\n",
        "\n",
        "  forward_hidden, backward_hidden = enc_hidden\n",
        "\n",
        "  dec_input = tf.expand_dims([targ_lang.word_index['<start>']], 0)\n",
        "\n",
        "  for t in range(max_length_targ):\n",
        "    predictions, dec_hidden = decoder(dec_input, forward_hidden, backward_hidden)\n",
        "\n",
        "    # storing the attention weights to plot later on\n",
        "    predicted_id = tf.argmax(predictions[0]).numpy()\n",
        "    result += targ_lang.index_word[predicted_id] + ' '\n",
        "\n",
        "    if targ_lang.index_word[predicted_id] == '<end>':\n",
        "      return result, sentence\n",
        "\n",
        "    # the predicted ID is fed back into the model\n",
        "    dec_input = tf.expand_dims([predicted_id], 0)\n",
        "\n",
        "  return result, sentence"
      ],
      "metadata": {
        "id": "Dff6xxPqponQ"
      },
      "execution_count": 35,
      "outputs": []
    },
    {
      "cell_type": "code",
      "source": [
        "def translate(sentence):\n",
        "  result, sentence = evaluate(sentence)\n",
        "\n",
        "  print('Input: %s' % (sentence))\n",
        "  print('Predicted translation: {}'.format(result))"
      ],
      "metadata": {
        "id": "0rEnX-C36Nrb"
      },
      "execution_count": 36,
      "outputs": []
    },
    {
      "cell_type": "markdown",
      "source": [
        "## Restore the latest checkpoint and test"
      ],
      "metadata": {
        "id": "V5JZeNC2Nj8E"
      }
    },
    {
      "cell_type": "code",
      "source": [
        "# загружаем последний checkpoint in checkpoint_dir\n",
        "#checkpoint.restore(tf.train.latest_checkpoint(checkpoint_dir))"
      ],
      "metadata": {
        "id": "ZO2PcB1-6N7P"
      },
      "execution_count": 37,
      "outputs": []
    },
    {
      "cell_type": "code",
      "source": [
        "translate('il mio secchio')"
      ],
      "metadata": {
        "id": "f8jJayQx_Jtc",
        "colab": {
          "base_uri": "https://localhost:8080/"
        },
        "outputId": "ef16427b-59e2-48e2-b121-a64ae230103b"
      },
      "execution_count": 38,
      "outputs": [
        {
          "output_type": "stream",
          "name": "stdout",
          "text": [
            "Input: <start> il mio secchio <end>\n",
            "Predicted translation: it's my seat . <end> \n"
          ]
        }
      ]
    },
    {
      "cell_type": "code",
      "source": [
        "translate('è bello')"
      ],
      "metadata": {
        "id": "zEdAVtZy_KCb",
        "colab": {
          "base_uri": "https://localhost:8080/"
        },
        "outputId": "94d29e82-fd41-4e1e-a4b2-9c7ad62df284"
      },
      "execution_count": 39,
      "outputs": [
        {
          "output_type": "stream",
          "name": "stdout",
          "text": [
            "Input: <start> bello <end>\n",
            "Predicted translation: that's pretty . <end> \n"
          ]
        }
      ]
    },
    {
      "cell_type": "code",
      "source": [
        "translate('il tempo e soleggiato')"
      ],
      "metadata": {
        "id": "ITJVdkKwXzcn",
        "colab": {
          "base_uri": "https://localhost:8080/"
        },
        "outputId": "67d3a4ee-28e9-420a-94cb-cdeeb7f1f48a"
      },
      "execution_count": 40,
      "outputs": [
        {
          "output_type": "stream",
          "name": "stdout",
          "text": [
            "Input: <start> il tempo e soleggiato <end>\n",
            "Predicted translation: time is on . <end> \n"
          ]
        }
      ]
    },
    {
      "cell_type": "code",
      "source": [
        "translate('ci incontreremo oggi')"
      ],
      "metadata": {
        "id": "mWFeu5f7g90A",
        "colab": {
          "base_uri": "https://localhost:8080/"
        },
        "outputId": "a9b74f09-addf-4f2a-b5ed-3d0eb6e8be83"
      },
      "execution_count": 41,
      "outputs": [
        {
          "output_type": "stream",
          "name": "stdout",
          "text": [
            "Input: <start> ci incontreremo oggi <end>\n",
            "Predicted translation: i'll meet him today . <end> \n"
          ]
        }
      ]
    },
    {
      "cell_type": "markdown",
      "source": [
        "модель не достаточно точная, но это лучшее, что пока получилось"
      ],
      "metadata": {
        "id": "DVKIUVR9hfNa"
      }
    }
  ]
}