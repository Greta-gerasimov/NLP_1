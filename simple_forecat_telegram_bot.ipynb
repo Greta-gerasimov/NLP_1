{
  "nbformat": 4,
  "nbformat_minor": 0,
  "metadata": {
    "colab": {
      "provenance": [],
      "authorship_tag": "ABX9TyOMUjxNfq8DQ5mlnWB25PuO",
      "include_colab_link": true
    },
    "kernelspec": {
      "name": "python3",
      "display_name": "Python 3"
    },
    "language_info": {
      "name": "python"
    }
  },
  "cells": [
    {
      "cell_type": "markdown",
      "metadata": {
        "id": "view-in-github",
        "colab_type": "text"
      },
      "source": [
        "<a href=\"https://colab.research.google.com/github/Greta-gerasimov/NLP_1/blob/forecast_telegram_bot/simple_forecat_telegram_bot.ipynb\" target=\"_parent\"><img src=\"https://colab.research.google.com/assets/colab-badge.svg\" alt=\"Open In Colab\"/></a>"
      ]
    },
    {
      "cell_type": "code",
      "execution_count": 14,
      "metadata": {
        "colab": {
          "base_uri": "https://localhost:8080/"
        },
        "id": "_n0COMqxnZ8Z",
        "outputId": "01c0ce76-f139-4222-add1-17609e194ef6"
      },
      "outputs": [
        {
          "output_type": "stream",
          "name": "stdout",
          "text": [
            "Requirement already satisfied: python-telegram-bot in /usr/local/lib/python3.10/dist-packages (20.8)\n",
            "Requirement already satisfied: httpx~=0.26.0 in /usr/local/lib/python3.10/dist-packages (from python-telegram-bot) (0.26.0)\n",
            "Requirement already satisfied: anyio in /usr/local/lib/python3.10/dist-packages (from httpx~=0.26.0->python-telegram-bot) (3.7.1)\n",
            "Requirement already satisfied: certifi in /usr/local/lib/python3.10/dist-packages (from httpx~=0.26.0->python-telegram-bot) (2024.2.2)\n",
            "Requirement already satisfied: httpcore==1.* in /usr/local/lib/python3.10/dist-packages (from httpx~=0.26.0->python-telegram-bot) (1.0.2)\n",
            "Requirement already satisfied: idna in /usr/local/lib/python3.10/dist-packages (from httpx~=0.26.0->python-telegram-bot) (3.6)\n",
            "Requirement already satisfied: sniffio in /usr/local/lib/python3.10/dist-packages (from httpx~=0.26.0->python-telegram-bot) (1.3.0)\n",
            "Requirement already satisfied: h11<0.15,>=0.13 in /usr/local/lib/python3.10/dist-packages (from httpcore==1.*->httpx~=0.26.0->python-telegram-bot) (0.14.0)\n",
            "Requirement already satisfied: exceptiongroup in /usr/local/lib/python3.10/dist-packages (from anyio->httpx~=0.26.0->python-telegram-bot) (1.2.0)\n"
          ]
        }
      ],
      "source": [
        "!pip install python-telegram-bot --upgrade"
      ]
    },
    {
      "cell_type": "code",
      "source": [
        "!pip install requests"
      ],
      "metadata": {
        "colab": {
          "base_uri": "https://localhost:8080/"
        },
        "id": "Hxc-5UNgtWfd",
        "outputId": "99c0c86e-ddda-4c56-aeb2-eb2ace37d4d7"
      },
      "execution_count": null,
      "outputs": [
        {
          "output_type": "stream",
          "name": "stdout",
          "text": [
            "Requirement already satisfied: requests in /usr/local/lib/python3.10/dist-packages (2.31.0)\n",
            "Requirement already satisfied: charset-normalizer<4,>=2 in /usr/local/lib/python3.10/dist-packages (from requests) (3.3.2)\n",
            "Requirement already satisfied: idna<4,>=2.5 in /usr/local/lib/python3.10/dist-packages (from requests) (3.6)\n",
            "Requirement already satisfied: urllib3<3,>=1.21.1 in /usr/local/lib/python3.10/dist-packages (from requests) (2.0.7)\n",
            "Requirement already satisfied: certifi>=2017.4.17 in /usr/local/lib/python3.10/dist-packages (from requests) (2024.2.2)\n"
          ]
        }
      ]
    },
    {
      "cell_type": "code",
      "source": [
        "import logging\n",
        "from telegram import Update, Bot\n",
        "from telegram.ext import Application, CommandHandler, MessageHandler, filters, CallbackContext\n",
        "import requests\n",
        "\n",
        "import nest_asyncio\n",
        "nest_asyncio.apply()\n"
      ],
      "metadata": {
        "id": "hzKq5uyj62aR"
      },
      "execution_count": 15,
      "outputs": []
    },
    {
      "cell_type": "code",
      "source": [
        "import logging\n",
        "from telegram.ext import Application, CommandHandler, MessageHandler, filters, CallbackContext\n",
        "from telegram import Update\n",
        "import requests\n",
        "\n",
        "# Вставьте сюда ваш токен телеграм-бота\n",
        "TELEGRAM_BOT_TOKEN = '6616113018:AAG4tJWZd-062P_xuwWwFp4091GAVHkb5rc'\n",
        "# Вставьте сюда ваш API-ключ OpenWeatherMap\n",
        "OPENWEATHER_API_KEY = 'a527d39537f724fb4f876980ba4256c7'\n",
        "# Базовый URL для запроса погоды\n",
        "WEATHER_API_URL = \"http://api.openweathermap.org/data/2.5/weather\"\n",
        "\n",
        "# Настройка логирования\n",
        "logging.basicConfig(format='%(asctime)s - %(name)s - %(levelname)s - %(message)s',\n",
        "                    level=logging.INFO)\n",
        "logger = logging.getLogger(__name__)\n",
        "\n",
        "# Команда start\n",
        "async def start(update: Update, context: CallbackContext) -> None:\n",
        "    await update.message.reply_text('Привет! Напиши название города, и я предскажу тебе погоду.')\n",
        "\n",
        "# Функция для получения погоды\n",
        "async def get_weather(city: str) -> str:\n",
        "    try:\n",
        "        params = {\n",
        "            'q': city,\n",
        "            'appid': OPENWEATHER_API_KEY,\n",
        "            'units': 'metric',\n",
        "            'lang': 'ru'\n",
        "        }\n",
        "        response = requests.get(WEATHER_API_URL, params=params)\n",
        "        response.raise_for_status()\n",
        "        weather_data = response.json()\n",
        "\n",
        "        city_name = weather_data['name']\n",
        "        country = weather_data['sys']['country']\n",
        "        temp = weather_data['main']['temp']\n",
        "        weather_description = weather_data['weather'][0]['description']\n",
        "        return (f\"Погода в городе {city_name}, {country}: {temp}°C, \"\n",
        "                f\"состояние: {weather_description}\")\n",
        "    except Exception as e:\n",
        "        logger.error(f\"Произошла ошибка при получении погоды: {e}\")\n",
        "        return \"Произошла ошибка при получении данных о погоде.\"\n",
        "\n",
        "# Обработка сообщения с названием города\n",
        "async def handle_weather(update: Update, context: CallbackContext) -> None:\n",
        "    city = update.message.text\n",
        "    weather = await get_weather(city)\n",
        "    await update.message.reply_text(weather)\n",
        "\n",
        "# Главная функция, в которой запускается бот\n",
        "async def main() -> None:\n",
        "    # Создание приложения бота с определенным токеном\n",
        "    application = Application.builder().token(TELEGRAM_BOT_TOKEN).build()\n",
        "\n",
        "    # Добавление команды /start\n",
        "    start_handler = CommandHandler('start', start)\n",
        "    application.add_handler(start_handler)\n",
        "\n",
        "    # Добавление обработчика текстовых сообщений для запроса погоды\n",
        "    weather_handler = MessageHandler(filters.TEXT & ~filters.COMMAND, handle_weather)\n",
        "    application.add_handler(weather_handler)\n",
        "\n",
        "    # Запускаем бота\n",
        "    await application.run_polling()\n",
        "\n",
        "if __name__ == '__main__':\n",
        "    # Запуск главной функции\n",
        "    import asyncio\n",
        "    asyncio.run(main())"
      ],
      "metadata": {
        "id": "exQkRAzcCLN2"
      },
      "execution_count": null,
      "outputs": []
    },
    {
      "cell_type": "code",
      "source": [],
      "metadata": {
        "id": "qYbipsBRnbcY"
      },
      "execution_count": null,
      "outputs": []
    },
    {
      "cell_type": "code",
      "source": [],
      "metadata": {
        "id": "QooZ5uD4nbf3"
      },
      "execution_count": null,
      "outputs": []
    }
  ]
}